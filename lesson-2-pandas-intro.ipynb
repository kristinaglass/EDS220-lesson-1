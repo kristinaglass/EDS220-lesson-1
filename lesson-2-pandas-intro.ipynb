{
 "cells": [
  {
   "cell_type": "markdown",
   "id": "25dd6cc2-24a9-434e-8688-729baf2692cf",
   "metadata": {},
   "source": [
    "# Objectives\n",
    "\n",
    "review core `pandas` objects: `pandas.Series` and `pandas.DataFrame`\n",
    "\n",
    "#`pandas`\n",
    "- Python package to wrangle and analyze tabular data\n",
    "- built on top of numpy\n",
    "- core tool for data analysis in Python\n"
   ]
  },
  {
   "cell_type": "code",
   "execution_count": 2,
   "id": "8636a845-b2c5-4172-9b2f-5e71edca3ec4",
   "metadata": {
    "tags": []
   },
   "outputs": [],
   "source": [
    "# import pandas with standard abbreviation\n",
    "import pandas as pd\n",
    "\n",
    "# and numpy too!\n",
    "import numpy as np"
   ]
  },
  {
   "cell_type": "markdown",
   "id": "0b953e45-303a-41f9-8fe0-6fdc2c50612a",
   "metadata": {},
   "source": [
    "# Series\n",
    "\n",
    "A `pandas.Series` :\n",
    "- Is one of the core data structures in 'pandas'\n",
    "- a 1- dimentional array of *indexed* data\n",
    "- will be the columns of the `pandas.DataFrame`\n",
    "\n",
    "# Creating a pandas Series\n",
    "\n",
    "Several ways of creating a pandas Series.\n",
    "For now, we will create series using:\n",
    "```\n",
    "s = pd.Series(data, index=index)\n",
    "```\n",
    "- `data` = numpy array (or a list of objects that can be converted to NumPy types)\n",
    "- `index` = a list of indicies of same length as data"
   ]
  },
  {
   "cell_type": "code",
   "execution_count": 4,
   "id": "f9e74a4c-ed6b-4a76-9fb0-c5583189c3fb",
   "metadata": {
    "tags": []
   },
   "outputs": [
    {
     "data": {
      "text/plain": [
       "array([0, 1, 2])"
      ]
     },
     "execution_count": 4,
     "metadata": {},
     "output_type": "execute_result"
    }
   ],
   "source": [
    "# EX: a pandas series from a numpy array\n",
    "#np.arrange() function contructs an array of consecutive integers\n",
    "\n",
    "np.arange(3)"
   ]
  },
  {
   "cell_type": "code",
   "execution_count": 5,
   "id": "65dbeaf2-43be-409c-a029-c5b5861459d4",
   "metadata": {
    "tags": []
   },
   "outputs": [
    {
     "data": {
      "text/plain": [
       "a    0\n",
       "b    1\n",
       "c    2\n",
       "dtype: int64"
      ]
     },
     "execution_count": 5,
     "metadata": {},
     "output_type": "execute_result"
    }
   ],
   "source": [
    "# we can use this to create a pandas Series\n",
    "#index is an optional argument meaning that it is prefilled by default but can be overidden\n",
    "pd.Series(np.arange(3), index=['a', 'b', 'c'])"
   ]
  },
  {
   "cell_type": "markdown",
   "id": "38c715aa-e691-45f6-9b8d-7ec8c2abc6bc",
   "metadata": {},
   "source": [
    "What kinf of parameter is index?\n",
    "\n",
    "A: an optional parameter, there is a default value to it.\n",
    "If we dont specify `index`, the default is to start the index from 0\n",
    "Example:"
   ]
  },
  {
   "cell_type": "code",
   "execution_count": 6,
   "id": "da2635be-239a-4a84-bdda-c964d8231ed5",
   "metadata": {
    "tags": []
   },
   "outputs": [
    {
     "data": {
      "text/plain": [
       "0    EDS220\n",
       "1    EDS222\n",
       "2    EDS223\n",
       "3    EDS242\n",
       "dtype: object"
      ]
     },
     "execution_count": 6,
     "metadata": {},
     "output_type": "execute_result"
    }
   ],
   "source": [
    "# create a series from a list of strings with default index\n",
    "pd.Series(['EDS220', 'EDS222', 'EDS223', 'EDS242'])"
   ]
  },
  {
   "cell_type": "markdown",
   "id": "fafeddf0-5255-4e70-8b79-b388b6a52a9f",
   "metadata": {},
   "source": [
    "# Operations of series\n",
    "\n",
    "Arithmetic operations work on series on also most NumPy functions:\n",
    "\n",
    "Example:"
   ]
  },
  {
   "cell_type": "code",
   "execution_count": 11,
   "id": "7cc98651-0dae-491e-8fca-296ebe98523f",
   "metadata": {
    "tags": []
   },
   "outputs": [
    {
     "name": "stdout",
     "output_type": "stream",
     "text": [
      "Andrea      98\n",
      "Beth        73\n",
      "Carolina    65\n",
      "dtype: int64 \n",
      "\n",
      "Andrea      9.8\n",
      "Beth        7.3\n",
      "Carolina    6.5\n",
      "dtype: float64\n"
     ]
    }
   ],
   "source": [
    "# define a series\n",
    "s = pd.Series( [98, 73, 65], index=['Andrea', 'Beth', 'Carolina'])\n",
    "print(s, '\\n')\n",
    "#\\n indicates to leave a empty line between code\n",
    "\n",
    "#divide each element in the series by 10:\n",
    "print( s/10 )"
   ]
  },
  {
   "cell_type": "markdown",
   "id": "d6655ee8-8fe1-4a63-a1b1-579fe78b5278",
   "metadata": {},
   "source": [
    "Example: Create a new series with `True`/`False` values indicating whether the elements in the series satisfy a condition or not."
   ]
  },
  {
   "cell_type": "code",
   "execution_count": 12,
   "id": "cd124628-262f-4b07-84db-671d3cbede8b",
   "metadata": {
    "tags": []
   },
   "outputs": [
    {
     "data": {
      "text/plain": [
       "Andrea       True\n",
       "Beth         True\n",
       "Carolina    False\n",
       "dtype: bool"
      ]
     },
     "execution_count": 12,
     "metadata": {},
     "output_type": "execute_result"
    }
   ],
   "source": [
    "s>70"
   ]
  },
  {
   "cell_type": "markdown",
   "id": "f7c73f69-f74a-410c-bb15-0d17e94d244b",
   "metadata": {},
   "source": [
    "This is simple -- but important!! Using conditions on Series is key to select data from dataframes. "
   ]
  },
  {
   "cell_type": "markdown",
   "id": "fa313533-0b63-4e97-bb7b-92f03c4088db",
   "metadata": {},
   "source": [
    "## Attributes and Methods\n",
    "\n",
    "Two examples about identifying missing values.\n",
    "\n",
    "- missing vales in `pandas` are represented by `np.NaN` = not a number.\n",
    "- `NaN` is a type of float in numpy"
   ]
  },
  {
   "cell_type": "code",
   "execution_count": 14,
   "id": "f7ed1409-343f-4f58-9fcb-248d065f40f7",
   "metadata": {
    "tags": []
   },
   "outputs": [
    {
     "data": {
      "text/plain": [
       "nan"
      ]
     },
     "execution_count": 14,
     "metadata": {},
     "output_type": "execute_result"
    }
   ],
   "source": [
    "np.NaN"
   ]
  },
  {
   "cell_type": "code",
   "execution_count": 15,
   "id": "f7bb9cec-90e8-43da-9363-699acef2fe0f",
   "metadata": {
    "tags": []
   },
   "outputs": [
    {
     "data": {
      "text/plain": [
       "float"
      ]
     },
     "execution_count": 15,
     "metadata": {},
     "output_type": "execute_result"
    }
   ],
   "source": [
    "type(np.NaN)"
   ]
  },
  {
   "cell_type": "code",
   "execution_count": 18,
   "id": "90412c71-6b04-4146-9b25-c538c4494e4c",
   "metadata": {
    "tags": []
   },
   "outputs": [
    {
     "data": {
      "text/plain": [
       "0    1.0\n",
       "1    2.0\n",
       "2    NaN\n",
       "3    4.0\n",
       "4    NaN\n",
       "dtype: float64"
      ]
     },
     "execution_count": 18,
     "metadata": {},
     "output_type": "execute_result"
    }
   ],
   "source": [
    "#series with NAs in it:\n",
    "s = pd.Series([1,2,np.NaN,4,np.NaN])\n",
    "s"
   ]
  },
  {
   "cell_type": "markdown",
   "id": "b10e713c-1590-46cd-b55d-5ee39cab9e18",
   "metadata": {},
   "source": [
    "`hasnans` = an attribute pf pandas series, returns `True` if there are any NAs"
   ]
  },
  {
   "cell_type": "code",
   "execution_count": 19,
   "id": "41d1042b-68c7-4693-83b4-af497cf7d8ec",
   "metadata": {
    "tags": []
   },
   "outputs": [
    {
     "data": {
      "text/plain": [
       "True"
      ]
     },
     "execution_count": 19,
     "metadata": {},
     "output_type": "execute_result"
    }
   ],
   "source": [
    "#check if series has NAs\n",
    "s.hasnans"
   ]
  },
  {
   "cell_type": "markdown",
   "id": "da05b2c3-af67-40bd-91f4-7738e1d0637f",
   "metadata": {},
   "source": [
    "`isna()` = a method of series, returns a series indeicating which elementa are NAs:"
   ]
  },
  {
   "cell_type": "code",
   "execution_count": 20,
   "id": "2055452d-c1b0-43b3-b9a9-b21abb6d4d1b",
   "metadata": {
    "tags": []
   },
   "outputs": [
    {
     "data": {
      "text/plain": [
       "0    False\n",
       "1    False\n",
       "2     True\n",
       "3    False\n",
       "4     True\n",
       "dtype: bool"
      ]
     },
     "execution_count": 20,
     "metadata": {},
     "output_type": "execute_result"
    }
   ],
   "source": [
    "s.isna()"
   ]
  },
  {
   "cell_type": "markdown",
   "id": "6a610714-40fd-4ad2-97a4-8d0a5e64fac5",
   "metadata": {},
   "source": [
    "`bool`: `True` or `False` are **boolean values**\n",
    "\n",
    "# DataFrames\n",
    "\n",
    "`pandas.DataFrame`:\n",
    "- most used object in `pandas`\n",
    "- represents tabular data(think of it as a spreadsheet)\n",
    "- each column is a `pandas.Series`\n",
    "\n",
    "# Creating a `pandas.DataFrame`\n",
    "\n",
    "*Many ways fo creating a dataframe*. Let's see more\n",
    "\n",
    "Remember dictionaries? They are sets of key-value pairs:\n",
    "\n",
    "```\n",
    "{ key1: value1,\n",
    "  key2 : value2}\n",
    "```\n",
    "\n",
    "Think of a `pd.DataFrame` as a dictionary where:\n",
    "- keyes = column names\n",
    "- values = colimn values\n",
    "\n",
    "We can create a dataframe like this:"
   ]
  },
  {
   "cell_type": "code",
   "execution_count": 21,
   "id": "e07499ad-70e5-49f3-874f-6005c97156a2",
   "metadata": {
    "tags": []
   },
   "outputs": [],
   "source": [
    "#initialize dictionary with columns' data\n",
    "d = {'col_names_1' : np.arange(3),\n",
    "    'col_names_2' : [3.1, 3.2, 3.3]}"
   ]
  },
  {
   "cell_type": "code",
   "execution_count": 22,
   "id": "82310678-4ad7-43ec-b50c-2a503bde9f52",
   "metadata": {
    "tags": []
   },
   "outputs": [
    {
     "data": {
      "text/html": [
       "<div>\n",
       "<style scoped>\n",
       "    .dataframe tbody tr th:only-of-type {\n",
       "        vertical-align: middle;\n",
       "    }\n",
       "\n",
       "    .dataframe tbody tr th {\n",
       "        vertical-align: top;\n",
       "    }\n",
       "\n",
       "    .dataframe thead th {\n",
       "        text-align: right;\n",
       "    }\n",
       "</style>\n",
       "<table border=\"1\" class=\"dataframe\">\n",
       "  <thead>\n",
       "    <tr style=\"text-align: right;\">\n",
       "      <th></th>\n",
       "      <th>col_names_1</th>\n",
       "      <th>col_names_2</th>\n",
       "    </tr>\n",
       "  </thead>\n",
       "  <tbody>\n",
       "    <tr>\n",
       "      <th>0</th>\n",
       "      <td>0</td>\n",
       "      <td>3.1</td>\n",
       "    </tr>\n",
       "    <tr>\n",
       "      <th>1</th>\n",
       "      <td>1</td>\n",
       "      <td>3.2</td>\n",
       "    </tr>\n",
       "    <tr>\n",
       "      <th>2</th>\n",
       "      <td>2</td>\n",
       "      <td>3.3</td>\n",
       "    </tr>\n",
       "  </tbody>\n",
       "</table>\n",
       "</div>"
      ],
      "text/plain": [
       "   col_names_1  col_names_2\n",
       "0            0          3.1\n",
       "1            1          3.2\n",
       "2            2          3.3"
      ]
     },
     "execution_count": 22,
     "metadata": {},
     "output_type": "execute_result"
    }
   ],
   "source": [
    "#create data fra,e\n",
    "df = pd.DataFrame(d)\n",
    "df"
   ]
  },
  {
   "cell_type": "markdown",
   "id": "a88c244a-8095-4ba6-80fa-7e1bb7940826",
   "metadata": {},
   "source": [
    "# In-place operations\n",
    "Lets rename the data frame's columns\n",
    "We can use a dataframe *method* called `rename`,\n",
    "`rename` takes in as an imput a dictionary\n",
    "\n",
    "```\n",
    "{'col_1_old_name', 'col_2_new_name',\n",
    "'col_2_old_name', 'col_2_new_name'}\n",
    "```"
   ]
  },
  {
   "cell_type": "code",
   "execution_count": 33,
   "id": "5a365675-2ae5-4cd2-b2db-4b8f4de05e42",
   "metadata": {
    "tags": []
   },
   "outputs": [
    {
     "data": {
      "text/html": [
       "<div>\n",
       "<style scoped>\n",
       "    .dataframe tbody tr th:only-of-type {\n",
       "        vertical-align: middle;\n",
       "    }\n",
       "\n",
       "    .dataframe tbody tr th {\n",
       "        vertical-align: top;\n",
       "    }\n",
       "\n",
       "    .dataframe thead th {\n",
       "        text-align: right;\n",
       "    }\n",
       "</style>\n",
       "<table border=\"1\" class=\"dataframe\">\n",
       "  <thead>\n",
       "    <tr style=\"text-align: right;\">\n",
       "      <th></th>\n",
       "      <th>col_names_1</th>\n",
       "      <th>col_names_2</th>\n",
       "    </tr>\n",
       "  </thead>\n",
       "  <tbody>\n",
       "    <tr>\n",
       "      <th>0</th>\n",
       "      <td>0</td>\n",
       "      <td>3.1</td>\n",
       "    </tr>\n",
       "    <tr>\n",
       "      <th>1</th>\n",
       "      <td>1</td>\n",
       "      <td>3.2</td>\n",
       "    </tr>\n",
       "    <tr>\n",
       "      <th>2</th>\n",
       "      <td>2</td>\n",
       "      <td>3.3</td>\n",
       "    </tr>\n",
       "  </tbody>\n",
       "</table>\n",
       "</div>"
      ],
      "text/plain": [
       "   col_names_1  col_names_2\n",
       "0            0          3.1\n",
       "1            1          3.2\n",
       "2            2          3.3"
      ]
     },
     "execution_count": 33,
     "metadata": {},
     "output_type": "execute_result"
    }
   ],
   "source": [
    "#define new column names\n",
    "col_names = {'col_name_1' : 'col1',\n",
    "             'col_name_2' : 'col2'\n",
    "            }\n",
    "#rename using rename\n",
    "df.rename(columns = col_names)"
   ]
  },
  {
   "cell_type": "code",
   "execution_count": 30,
   "id": "c9245182-9d2b-4b7d-a56d-a9096000ac61",
   "metadata": {
    "tags": []
   },
   "outputs": [
    {
     "data": {
      "text/html": [
       "<div>\n",
       "<style scoped>\n",
       "    .dataframe tbody tr th:only-of-type {\n",
       "        vertical-align: middle;\n",
       "    }\n",
       "\n",
       "    .dataframe tbody tr th {\n",
       "        vertical-align: top;\n",
       "    }\n",
       "\n",
       "    .dataframe thead th {\n",
       "        text-align: right;\n",
       "    }\n",
       "</style>\n",
       "<table border=\"1\" class=\"dataframe\">\n",
       "  <thead>\n",
       "    <tr style=\"text-align: right;\">\n",
       "      <th></th>\n",
       "      <th>col_names_1</th>\n",
       "      <th>col_names_2</th>\n",
       "    </tr>\n",
       "  </thead>\n",
       "  <tbody>\n",
       "    <tr>\n",
       "      <th>0</th>\n",
       "      <td>0</td>\n",
       "      <td>3.1</td>\n",
       "    </tr>\n",
       "    <tr>\n",
       "      <th>1</th>\n",
       "      <td>1</td>\n",
       "      <td>3.2</td>\n",
       "    </tr>\n",
       "    <tr>\n",
       "      <th>2</th>\n",
       "      <td>2</td>\n",
       "      <td>3.3</td>\n",
       "    </tr>\n",
       "  </tbody>\n",
       "</table>\n",
       "</div>"
      ],
      "text/plain": [
       "   col_names_1  col_names_2\n",
       "0            0          3.1\n",
       "1            1          3.2\n",
       "2            2          3.3"
      ]
     },
     "execution_count": 30,
     "metadata": {},
     "output_type": "execute_result"
    }
   ],
   "source": [
    "#take a look at our datadrame\n",
    "df"
   ]
  },
  {
   "cell_type": "markdown",
   "id": "1842eda5-3571-4b2a-845f-4a07d5f3cec6",
   "metadata": {},
   "source": [
    "Nothing changes:\n",
    "`df.rename()` doesnt change the column names *in place*, meaning it doesnt modify the object itself. Instead, it created a new object as an output.\n",
    "\n",
    "Assign output back to dataframe to actially change it"
   ]
  },
  {
   "cell_type": "code",
   "execution_count": 31,
   "id": "f31c8a4b-e94f-4968-914f-b5ebbe450605",
   "metadata": {
    "tags": []
   },
   "outputs": [
    {
     "data": {
      "text/html": [
       "<div>\n",
       "<style scoped>\n",
       "    .dataframe tbody tr th:only-of-type {\n",
       "        vertical-align: middle;\n",
       "    }\n",
       "\n",
       "    .dataframe tbody tr th {\n",
       "        vertical-align: top;\n",
       "    }\n",
       "\n",
       "    .dataframe thead th {\n",
       "        text-align: right;\n",
       "    }\n",
       "</style>\n",
       "<table border=\"1\" class=\"dataframe\">\n",
       "  <thead>\n",
       "    <tr style=\"text-align: right;\">\n",
       "      <th></th>\n",
       "      <th>col_names_1</th>\n",
       "      <th>col_names_2</th>\n",
       "    </tr>\n",
       "  </thead>\n",
       "  <tbody>\n",
       "    <tr>\n",
       "      <th>0</th>\n",
       "      <td>0</td>\n",
       "      <td>3.1</td>\n",
       "    </tr>\n",
       "    <tr>\n",
       "      <th>1</th>\n",
       "      <td>1</td>\n",
       "      <td>3.2</td>\n",
       "    </tr>\n",
       "    <tr>\n",
       "      <th>2</th>\n",
       "      <td>2</td>\n",
       "      <td>3.3</td>\n",
       "    </tr>\n",
       "  </tbody>\n",
       "</table>\n",
       "</div>"
      ],
      "text/plain": [
       "   col_names_1  col_names_2\n",
       "0            0          3.1\n",
       "1            1          3.2\n",
       "2            2          3.3"
      ]
     },
     "execution_count": 31,
     "metadata": {},
     "output_type": "execute_result"
    }
   ],
   "source": [
    "df = df.rename(columns = col_names)\n",
    "df"
   ]
  },
  {
   "cell_type": "code",
   "execution_count": null,
   "id": "534561f4-d1ec-4d56-95ea-25ff928ffb24",
   "metadata": {},
   "outputs": [],
   "source": []
  }
 ],
 "metadata": {
  "kernelspec": {
   "display_name": "Anaconda 3 (Base)",
   "language": "python",
   "name": "base"
  },
  "language_info": {
   "codemirror_mode": {
    "name": "ipython",
    "version": 3
   },
   "file_extension": ".py",
   "mimetype": "text/x-python",
   "name": "python",
   "nbconvert_exporter": "python",
   "pygments_lexer": "ipython3",
   "version": "3.9.13"
  }
 },
 "nbformat": 4,
 "nbformat_minor": 5
}
