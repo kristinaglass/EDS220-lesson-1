{
 "cells": [
  {
   "cell_type": "code",
   "execution_count": 1,
   "id": "c2cdaba2-1a28-4e22-b162-84aaec787614",
   "metadata": {
    "tags": []
   },
   "outputs": [],
   "source": [
    "import numpy as np"
   ]
  },
  {
   "cell_type": "markdown",
   "id": "a8a55346-0a54-4142-a140-c596e9a6aae7",
   "metadata": {},
   "source": [
    "# Variables\n",
    "\n",
    "we can think about variables as a name we asign to a particular object in Python. For example:"
   ]
  },
  {
   "cell_type": "code",
   "execution_count": 2,
   "id": "5eae81e8-80e3-4f36-8e2f-7abe77f392a9",
   "metadata": {
    "tags": []
   },
   "outputs": [],
   "source": [
    "# assign a small array to variable a\n",
    "a = np.array( [ [1,1,2], [3,5,8] ] )"
   ]
  },
  {
   "cell_type": "markdown",
   "id": "c8ec2bff-7afb-4bb6-8659-b88ef1b76cfe",
   "metadata": {},
   "source": [
    "When we run the cell, we store the variable and its value. We can see the variables value in two ways:"
   ]
  },
  {
   "cell_type": "code",
   "execution_count": 3,
   "id": "a44b6913-a029-4dea-ba5b-102a5f11b42f",
   "metadata": {
    "tags": []
   },
   "outputs": [
    {
     "data": {
      "text/plain": [
       "array([[1, 1, 2],\n",
       "       [3, 5, 8]])"
      ]
     },
     "execution_count": 3,
     "metadata": {},
     "output_type": "execute_result"
    }
   ],
   "source": [
    "a"
   ]
  },
  {
   "cell_type": "code",
   "execution_count": 4,
   "id": "0e882129-dd8c-44dc-a278-964d661d523d",
   "metadata": {
    "tags": []
   },
   "outputs": [
    {
     "name": "stdout",
     "output_type": "stream",
     "text": [
      "[[1 1 2]\n",
      " [3 5 8]]\n"
     ]
    }
   ],
   "source": [
    "print(a)"
   ]
  },
  {
   "cell_type": "markdown",
   "id": "d20e64c0-0c9a-4ff1-b6e3-2b070c309e1f",
   "metadata": {},
   "source": [
    "## Naming variables\n",
    "in the class we are going to use `snake_case` for naming variables.\n",
    "\n",
    "# Variables and objects\n",
    "\n",
    "**object**: often encountered in the python documentation and tutorials.\n",
    "\n",
    "object is a bundle of properties and actions about something specific\n",
    "\n",
    "Example:\n",
    "\n",
    "- object: data frame\n",
    "- properties: name of rows, name of columns, data created\n",
    "- actions: selecting a row, adding a column\n",
    "\n",
    "A variable is a name we give a specific object, and the same object can be referenced by different variables.\n",
    "\n",
    "Example:\n",
    "\n",
    "- The Sun (actual star) = object\n",
    "- sol = Spanish word for sun = variable\n",
    "- soleil = French for sun = another variable\n",
    "\n",
    "In practice, we will use objects and variables interchangeably\n"
   ]
  },
  {
   "cell_type": "markdown",
   "id": "45a8a82c-e8e6-4cf2-9966-4b59f31f66ad",
   "metadata": {},
   "source": [
    "# Types\n",
    "\n",
    "Each object in python has a type.\n",
    "\n",
    "type = what kind of object it is\n",
    "\n",
    "We can also call the type of the object the **class** of the object\n",
    "\n",
    "We can see the type/class of an object using the `type` function"
   ]
  },
  {
   "cell_type": "code",
   "execution_count": 5,
   "id": "8aacbf13-f89a-4527-bdb7-db2365367807",
   "metadata": {
    "tags": []
   },
   "outputs": [
    {
     "name": "stdout",
     "output_type": "stream",
     "text": [
      "[[1 1 2]\n",
      " [3 5 8]]\n"
     ]
    },
    {
     "data": {
      "text/plain": [
       "numpy.ndarray"
      ]
     },
     "execution_count": 5,
     "metadata": {},
     "output_type": "execute_result"
    }
   ],
   "source": [
    "print(a)\n",
    "type(a)"
   ]
  },
  {
   "cell_type": "markdown",
   "id": "355b33d5-4c2b-438a-8aca-98f5ac140e25",
   "metadata": {},
   "source": [
    "The `numpy.ndarry` is the core object/data type in the NumPy package. We can check the type of an entry in the array by indexing:"
   ]
  },
  {
   "cell_type": "code",
   "execution_count": 10,
   "id": "ce59fef5-c157-4753-a0ab-dcb92f4eeae3",
   "metadata": {
    "tags": []
   },
   "outputs": [
    {
     "name": "stdout",
     "output_type": "stream",
     "text": [
      "1\n"
     ]
    }
   ],
   "source": [
    "print(a[0,0])"
   ]
  },
  {
   "cell_type": "code",
   "execution_count": 12,
   "id": "dbad3c29-6d23-44f0-84c4-b9131779f6d6",
   "metadata": {
    "tags": []
   },
   "outputs": [
    {
     "data": {
      "text/plain": [
       "numpy.int64"
      ]
     },
     "execution_count": 12,
     "metadata": {},
     "output_type": "execute_result"
    }
   ],
   "source": [
    "type(a[0,0])"
   ]
  },
  {
   "cell_type": "code",
   "execution_count": 9,
   "id": "d5d7e73f-1ca1-415e-84e7-3c6728de01b5",
   "metadata": {
    "tags": []
   },
   "outputs": [
    {
     "name": "stdout",
     "output_type": "stream",
     "text": [
      "5\n"
     ]
    }
   ],
   "source": [
    "# how would you access the value 5 in the array a?\n",
    "\n",
    "print(a[1,1])"
   ]
  },
  {
   "cell_type": "markdown",
   "id": "5d540226-3e1f-4d89-821b-9e31a574acdf",
   "metadata": {},
   "source": [
    "# Functions\n",
    "\n",
    "`print` was our first example of a python function! \n",
    "\n",
    "A function:\n",
    "- take in a set of **arguments**, separated by commas, and\n",
    "- use those arguments to produce some **output**\n",
    "\n",
    "argument = parameter: you might see argument more often in the documentation\n",
    "\n",
    "We can ask information about a function by executing the question mark followed by the function name `print`"
   ]
  },
  {
   "cell_type": "code",
   "execution_count": 13,
   "id": "e336da0e-3ffa-45f3-806e-b2eae07db162",
   "metadata": {
    "tags": []
   },
   "outputs": [
    {
     "data": {
      "text/plain": [
       "\u001b[0;31mDocstring:\u001b[0m\n",
       "print(value, ..., sep=' ', end='\\n', file=sys.stdout, flush=False)\n",
       "\n",
       "Prints the values to a stream, or to sys.stdout by default.\n",
       "Optional keyword arguments:\n",
       "file:  a file-like object (stream); defaults to the current sys.stdout.\n",
       "sep:   string inserted between values, default a space.\n",
       "end:   string appended after the last value, default a newline.\n",
       "flush: whether to forcibly flush the stream.\n",
       "\u001b[0;31mType:\u001b[0m      builtin_function_or_method\n"
      ]
     },
     "metadata": {},
     "output_type": "display_data"
    }
   ],
   "source": [
    "?print"
   ]
  },
  {
   "cell_type": "markdown",
   "id": "277eaecb-f01e-4934-83ea-1befb47ba71d",
   "metadata": {},
   "source": [
    "- first line: function showing all of its arguments in parenthases\n",
    "- then a short description of what the function does\n",
    "- finally, a list of the arguments and a breif explanation of each of them.\n",
    "\n",
    "Different types of arguments inside the parenthesis. Roughly speaking there are two types of arguments:\n",
    "\n",
    "- **non-optional arguments**: arguments you need to specify for the function to do something\n",
    "- **optional argumets**: arguments that are pre-filled with a default value by the function, but we can override them. Optional arguments appear inside the parentesis () in the fomr\n",
    "\n",
    "`optional argument = default_value`"
   ]
  },
  {
   "cell_type": "code",
   "execution_count": 14,
   "id": "73a2a2da-94d7-48d3-9355-fec43014c708",
   "metadata": {
    "tags": []
   },
   "outputs": [
    {
     "name": "stdout",
     "output_type": "stream",
     "text": [
      "changing the default end argument of the print function:)"
     ]
    }
   ],
   "source": [
    "print('changing the default end argument of the print function', end=':)')"
   ]
  },
  {
   "cell_type": "code",
   "execution_count": 15,
   "id": "f39df46d-4022-40d9-8f4b-353d2d113554",
   "metadata": {
    "tags": []
   },
   "outputs": [
    {
     "name": "stdout",
     "output_type": "stream",
     "text": [
      "changing the default end argument of the print function\n"
     ]
    }
   ],
   "source": [
    "print('changing the default end argument of the print function')"
   ]
  },
  {
   "cell_type": "markdown",
   "id": "7f4b6adb-93e8-47ae-a016-5bcc35c0ff96",
   "metadata": {},
   "source": [
    "#Attributes and Methods\n",
    "\n",
    "An object in Python has attributes and methods.\n",
    "\n",
    "-**attribute**: a property of an object, a piece of information about it.\n",
    "    ex. name, color, age, weight\n",
    "-**method***: a procedure associated with an object, an action where the main ingredient is the object itself.\n",
    "    ex meow(), nap(), chase_laser(), move_tail()\n",
    "    \n",
    "Access a variable's attributes and methods by adding a period `.` at the end of the variables name   \n",
    "\n",
    "`variable.variable_method()` or\n",
    "`variable.variable_attribute`\n",
    "\n",
    "Examples:\n",
    "Methods and attributes of NumPy arrays:"
   ]
  },
  {
   "cell_type": "code",
   "execution_count": 2,
   "id": "5e322e97-2dff-4ab1-ba25-20f35df6ea61",
   "metadata": {
    "tags": []
   },
   "outputs": [],
   "source": [
    "import numpy as np"
   ]
  },
  {
   "cell_type": "code",
   "execution_count": 3,
   "id": "ed6b677f-9ed0-44b0-9305-a6f76441d4be",
   "metadata": {
    "tags": []
   },
   "outputs": [
    {
     "data": {
      "text/plain": [
       "array([[1, 2, 3],\n",
       "       [4, 5, 6],\n",
       "       [7, 8, 9]])"
      ]
     },
     "execution_count": 3,
     "metadata": {},
     "output_type": "execute_result"
    }
   ],
   "source": [
    "var = np.array( [ [1,2,3], [4,5,6], [7,8,9], ] )\n",
    "var"
   ]
  },
  {
   "cell_type": "code",
   "execution_count": 4,
   "id": "824b93c2-fad2-46d7-90c8-61d85a24ef84",
   "metadata": {
    "tags": []
   },
   "outputs": [
    {
     "data": {
      "text/plain": [
       "(3, 3)"
      ]
     },
     "execution_count": 4,
     "metadata": {},
     "output_type": "execute_result"
    }
   ],
   "source": [
    "# shape : attribute telling us the number of elements in each dinension of the array\n",
    "var.shape"
   ]
  },
  {
   "cell_type": "code",
   "execution_count": 5,
   "id": "1e2b8a40-b4bd-4beb-aeee-d71d12042e42",
   "metadata": {
    "tags": []
   },
   "outputs": [
    {
     "data": {
      "text/plain": [
       "tuple"
      ]
     },
     "execution_count": 5,
     "metadata": {},
     "output_type": "execute_result"
    }
   ],
   "source": [
    "type(var.shape)"
   ]
  },
  {
   "cell_type": "code",
   "execution_count": 6,
   "id": "a51c20cd-e4e4-4d01-8dcd-2acc23f77295",
   "metadata": {
    "tags": []
   },
   "outputs": [
    {
     "data": {
      "text/plain": [
       "2"
      ]
     },
     "execution_count": 6,
     "metadata": {},
     "output_type": "execute_result"
    }
   ],
   "source": [
    "# ndim is an attribute holding the number of array dimensions\n",
    "var.ndim"
   ]
  },
  {
   "cell_type": "code",
   "execution_count": 7,
   "id": "fe99fd96-2fc7-4754-82d0-13f2c943ffa7",
   "metadata": {
    "tags": []
   },
   "outputs": [
    {
     "data": {
      "text/plain": [
       "int"
      ]
     },
     "execution_count": 7,
     "metadata": {},
     "output_type": "execute_result"
    }
   ],
   "source": [
    "type(var.ndim)"
   ]
  },
  {
   "cell_type": "markdown",
   "id": "cf1f450b-51c8-4db3-8a7f-8fb1c3bc3fdc",
   "metadata": {},
   "source": [
    "- Notice attributes can have many different data types.\n",
    "\n",
    "Examples of metods:"
   ]
  },
  {
   "cell_type": "code",
   "execution_count": 8,
   "id": "f4948ea1-aef0-4675-ac87-30b3086d2a07",
   "metadata": {
    "tags": []
   },
   "outputs": [
    {
     "data": {
      "text/plain": [
       "1"
      ]
     },
     "execution_count": 8,
     "metadata": {},
     "output_type": "execute_result"
    }
   ],
   "source": [
    "# min method for array\n",
    "# retun the minimum value in the array\n",
    "var.min()"
   ]
  },
  {
   "cell_type": "code",
   "execution_count": 10,
   "id": "7a317e7c-2dab-44eb-83ec-b61b062c62ea",
   "metadata": {
    "tags": []
   },
   "outputs": [
    {
     "data": {
      "text/plain": [
       "builtin_function_or_method"
      ]
     },
     "execution_count": 10,
     "metadata": {},
     "output_type": "execute_result"
    }
   ],
   "source": [
    "type(var.min)"
   ]
  },
  {
   "cell_type": "markdown",
   "id": "24b2a202-e81e-4cc4-991b-2ba13d3ca179",
   "metadata": {},
   "source": [
    "# R and Python\n",
    "R:\n",
    "- doesnt use methods within an object\n",
    "- functions in R are extrinsic to (outside) the objects they are acting on\n",
    "\n",
    "Example: recreate getting the min value in an array\n",
    "\n",
    "In R there would be two seperate items: the variable `var` and a *seperate* function `min` that gets `var` as a parameter\n",
    "\n",
    "```\n",
    "# this is R code\n",
    "var <- array(c(1,4,7,2,5,8,3,6,9),) dim=c(3,3)\n",
    "min(var)\n",
    "```\n",
    "\n",
    "Using the pipe operator >%> in R's tidyverse is closer to the `.` in Python:\n",
    "\n",
    "```\n",
    "var <- array(c(1,4,7,2,5,8,3,6,9),) dim=c(3,3)\n",
    "var >%> min()\n",
    "```\n",
    "\n",
    "What is happening?\n",
    "The pipe `>%>` is passing `var` to the `min()` function as its first argument. This is essentially what the `.` does in Python\n",
    "\n",
    "```\n",
    "var = np.array( [ [1,2,3], [4,5,6], [7,8,9], ] )\n",
    "var.min()\n",
    "```"
   ]
  }
 ],
 "metadata": {
  "kernelspec": {
   "display_name": "Anaconda 3 (Base)",
   "language": "python",
   "name": "base"
  },
  "language_info": {
   "codemirror_mode": {
    "name": "ipython",
    "version": 3
   },
   "file_extension": ".py",
   "mimetype": "text/x-python",
   "name": "python",
   "nbconvert_exporter": "python",
   "pygments_lexer": "ipython3",
   "version": "3.9.13"
  }
 },
 "nbformat": 4,
 "nbformat_minor": 5
}
